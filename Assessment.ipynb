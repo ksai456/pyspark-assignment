{
 "cells": [
  {
   "cell_type": "code",
   "execution_count": 174,
   "metadata": {},
   "outputs": [],
   "source": [
    "import os\n",
    "from pyspark.sql import SparkSession\n",
    "from pyspark.sql.functions import col, count, avg, countDistinct, to_date, first, last, lead, lag\n",
    "from pyspark.sql.types import StringType, StructField, IntegerType, StructType, TimestampType"
   ]
  },
  {
   "cell_type": "markdown",
   "metadata": {},
   "source": [
    "# Initialize Spark session"
   ]
  },
  {
   "cell_type": "code",
   "execution_count": 175,
   "metadata": {},
   "outputs": [],
   "source": [
    "spark = SparkSession.builder \\\n",
    "    .master(\"local[*]\") \\\n",
    "    .appName(\"User Click Data ETL\") \\\n",
    "    .getOrCreate()"
   ]
  },
  {
   "cell_type": "markdown",
   "metadata": {},
   "source": [
    "#creating file path"
   ]
  },
  {
   "cell_type": "code",
   "execution_count": 176,
   "metadata": {},
   "outputs": [],
   "source": [
    "file_path=\"user_click_data1.json\""
   ]
  },
  {
   "cell_type": "code",
   "execution_count": 177,
   "metadata": {},
   "outputs": [],
   "source": [
    "schema_df = StructType([\n",
    "    StructField(\"browser\", StringType(), True),\n",
    "    StructField(\"city\", StringType(), True),\n",
    "    StructField(\"click_event_id\", IntegerType(), False),\n",
    "    StructField(\"country\", StringType(), True),\n",
    "    StructField(\"device\", StringType(), True),\n",
    "    StructField(\"ip_address\", StringType(), True),\n",
    "    StructField(\"timestamp\", TimestampType(), True),\n",
    "    StructField(\"url\", StringType(), True),\n",
    "    StructField(\"user_id\", StringType(), False)\n",
    "])"
   ]
  },
  {
   "cell_type": "markdown",
   "metadata": {},
   "source": [
    "# reading the file path if exists are not"
   ]
  },
  {
   "cell_type": "code",
   "execution_count": 178,
   "metadata": {},
   "outputs": [],
   "source": [
    "try:\n",
    "    user_df = spark.read.json(file_path, schema=schema_df)\n",
    "except Exception as e:\n",
    "    print(e)"
   ]
  },
  {
   "cell_type": "markdown",
   "metadata": {},
   "source": [
    "# Correct data types"
   ]
  },
  {
   "cell_type": "code",
   "execution_count": 179,
   "metadata": {},
   "outputs": [],
   "source": [
    "user_df = user_df.withColumn(\"event_date\", to_date(col(\"timestamp\")))\n",
    "user_df = user_df.withColumn(\"user_id\", col(\"user_id\").cast(IntegerType()))"
   ]
  },
  {
   "cell_type": "code",
   "execution_count": 180,
   "metadata": {},
   "outputs": [],
   "source": [
    "from pyspark.sql.window import Window\n",
    "spec =  Window.partitionBy(\"country\", \"event_date\", \"user_id\").orderBy(\"timestamp\")"
   ]
  },
  {
   "cell_type": "code",
   "execution_count": 181,
   "metadata": {},
   "outputs": [],
   "source": [
    "user_df = user_df.withColumn(\"last_click\", lead(col(\"timestamp\")).over(spec))\n",
    "user_df = user_df.withColumn(\"last_1\", last(col(\"timestamp\")).over(spec))"
   ]
  },
  {
   "cell_type": "markdown",
   "metadata": {},
   "source": [
    "# represents a random time spent in minutes"
   ]
  },
  {
   "cell_type": "code",
   "execution_count": 182,
   "metadata": {},
   "outputs": [],
   "source": [
    "user_df = user_df.withColumn(\"time_spent\", (col(\"last_click\").cast(\"long\") - col(\"timestamp\").cast(\"long\"))/60)\n",
    "user_df = user_df.withColumn(\"time_1\", (col(\"last_1\").cast(\"long\") - col(\"timestamp\").cast(\"long\"))/60)\n",
    "\n",
    "user_df.write.csv(\"test.csv\", mode=\"overwrite\", header=True)"
   ]
  },
  {
   "cell_type": "markdown",
   "metadata": {},
   "source": [
    "# Group by URL, country, and date and aggregate"
   ]
  },
  {
   "cell_type": "code",
   "execution_count": 183,
   "metadata": {},
   "outputs": [],
   "source": [
    "agg_df = user_df.groupBy(\"url\", \"country\", \"event_date\").agg(\n",
    "    avg(\"time_spent\").alias(\"average_minutes_spent\"), avg(\"time_1\").alias(\"average_1\")\n",
    "    countDistinct(\"user_id\").alias(\"unique_users_count\"),\n",
    "    count(\"click_event_id\").alias(\"click_count\")\n",
    ")\n"
   ]
  },
  {
   "cell_type": "code",
   "execution_count": 184,
   "metadata": {},
   "outputs": [],
   "source": [
    "agg_df.write.csv(\"final_result.cvs\", mode=\"overwrite\")"
   ]
  },
  {
   "cell_type": "markdown",
   "metadata": {},
   "source": [
    "# Show the result"
   ]
  },
  {
   "cell_type": "code",
   "execution_count": 185,
   "metadata": {},
   "outputs": [
    {
     "name": "stdout",
     "output_type": "stream",
     "text": [
      "+--------------------+-------+----------+---------------------+------------------+-----------+\n",
      "|                 url|country|event_date|average_minutes_spent|unique_users_count|click_count|\n",
      "+--------------------+-------+----------+---------------------+------------------+-----------+\n",
      "|www.globalmart.co...|England|2023-05-20|                 NULL|                 6|          6|\n",
      "|www.globalmart.co...|  Italy|2023-05-20|    6.933333333333334|                 4|          5|\n",
      "|www.globalmart.co...|    USA|2023-05-20|   17.483333333333334|                 5|          6|\n",
      "|www.globalmart.co...|  India|2023-05-20|                 NULL|                 4|          4|\n",
      "|www.globalmart.co...|  Spain|2023-05-20|                 NULL|                 1|          1|\n",
      "+--------------------+-------+----------+---------------------+------------------+-----------+\n",
      "\n"
     ]
    }
   ],
   "source": [
    "agg_df[agg_df[\"url\"] == \"www.globalmart.com/product-id-23\"].show()"
   ]
  },
  {
   "cell_type": "code",
   "execution_count": null,
   "metadata": {},
   "outputs": [],
   "source": []
  }
 ],
 "metadata": {
  "kernelspec": {
   "display_name": "Python 3",
   "language": "python",
   "name": "python3"
  },
  "language_info": {
   "codemirror_mode": {
    "name": "ipython",
    "version": 3
   },
   "file_extension": ".py",
   "mimetype": "text/x-python",
   "name": "python",
   "nbconvert_exporter": "python",
   "pygments_lexer": "ipython3",
   "version": "3.12.3"
  }
 },
 "nbformat": 4,
 "nbformat_minor": 2
}
